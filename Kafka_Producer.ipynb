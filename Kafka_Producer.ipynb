{
 "cells": [
  {
   "cell_type": "code",
   "execution_count": 7,
   "id": "d3321302",
   "metadata": {},
   "outputs": [
    {
     "name": "stderr",
     "output_type": "stream",
     "text": [
      "%4|1690114038.128|TERMINATE|rdkafka#producer-2| [thrd:app]: Producer terminating with 379 messages (18849 bytes) still in queue or transit: use flush() to wait for outstanding message delivery\n"
     ]
    }
   ],
   "source": [
    "import csv\n",
    "import time\n",
    "from confluent_kafka import Producer\n",
    "\n",
    "# Create a Kafka producer instance\n",
    "p = Producer({'bootstrap.servers': 'localhost:9092'}) "
   ]
  },
  {
   "cell_type": "code",
   "execution_count": 8,
   "id": "25b9947f",
   "metadata": {},
   "outputs": [],
   "source": [
    "# Function to read the CSV file and send rows to Kafka\n",
    "def send_rows_to_kafka(file_path, topic):\n",
    "\n",
    "    # Read the CSV file and send rows to Kafka\n",
    "    with open(file_path, 'r') as csv_file:\n",
    "        reader = csv.reader(csv_file)\n",
    "        next(reader)  # Skip the header row\n",
    "        \n",
    "        for row in reader:\n",
    "            # Convert the row to a byte string\n",
    "            message = ','.join(row).encode('utf-8')\n",
    "\n",
    "            # Send the message to Kafka\n",
    "            p.produce(topic, value=message)\n",
    "            \n",
    "            # Sleep for 5 seconds\n",
    "            time.sleep(5)"
   ]
  },
  {
   "cell_type": "code",
   "execution_count": null,
   "id": "e4497a09",
   "metadata": {},
   "outputs": [],
   "source": [
    "# Usage example\n",
    "file_path = 'Data/ecommerce_logs.csv'\n",
    "topic = 'sparkab'\n",
    "\n",
    "send_rows_to_kafka(file_path, topic)"
   ]
  },
  {
   "cell_type": "code",
   "execution_count": null,
   "id": "deceddf6",
   "metadata": {},
   "outputs": [],
   "source": []
  },
  {
   "cell_type": "code",
   "execution_count": null,
   "id": "eca8d6d8",
   "metadata": {},
   "outputs": [],
   "source": []
  }
 ],
 "metadata": {
  "kernelspec": {
   "display_name": "Python 3 (ipykernel)",
   "language": "python",
   "name": "python3"
  },
  "language_info": {
   "codemirror_mode": {
    "name": "ipython",
    "version": 3
   },
   "file_extension": ".py",
   "mimetype": "text/x-python",
   "name": "python",
   "nbconvert_exporter": "python",
   "pygments_lexer": "ipython3",
   "version": "3.9.12"
  }
 },
 "nbformat": 4,
 "nbformat_minor": 5
}
